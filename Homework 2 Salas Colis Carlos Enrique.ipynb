{
 "cells": [
  {
   "cell_type": "markdown",
   "metadata": {},
   "source": [
    "<font color=\"Green\"> <H1> HOMEWORK 1 </H1> </font>\n",
    "\n",
    "\n",
    "<H2> Student:</H2> <br/>\n",
    "-Salas Colis Carlos Enrique <br/>"
   ]
  },
  {
   "cell_type": "code",
   "execution_count": null,
   "metadata": {},
   "outputs": [
    {
     "name": "stdout",
     "output_type": "stream",
     "text": [
      "How many datas do you want to enter:5\n",
      "\n",
      "\n",
      "Give me the percentage:40\n",
      "\n",
      "\n"
     ]
    }
   ],
   "source": [
    "z=int(input(\"How many datas do you want to enter:\"))\n",
    "print(\"\\n\")\n",
    "datas=[]\n",
    "m=0\n",
    "\n",
    "e = float(input(\"Give me the percentage:\"))\n",
    "print(\"\\n\")\n",
    "    \n",
    "for i in range(0,z):\n",
    "    d = float(input(\"Introduce the Datas:\"))\n",
    "    print(\"\\n\")\n",
    "    datas.append(d)\n",
    "    \n",
    "    m=datas\n",
    "    m.sort()\n",
    "    print(f\"The order of the values is:\\n{m}\")\n",
    "    \n",
    " \n",
    "\n",
    "\n"
   ]
  },
  {
   "cell_type": "code",
   "execution_count": null,
   "metadata": {},
   "outputs": [],
   "source": []
  }
 ],
 "metadata": {
  "kernelspec": {
   "display_name": "Python 3",
   "language": "python",
   "name": "python3"
  },
  "language_info": {
   "codemirror_mode": {
    "name": "ipython",
    "version": 3
   },
   "file_extension": ".py",
   "mimetype": "text/x-python",
   "name": "python",
   "nbconvert_exporter": "python",
   "pygments_lexer": "ipython3",
   "version": "3.7.4"
  }
 },
 "nbformat": 4,
 "nbformat_minor": 2
}
